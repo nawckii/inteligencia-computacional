{
 "cells": [
  {
   "cell_type": "code",
   "execution_count": 8,
   "metadata": {},
   "outputs": [
    {
     "name": "stdout",
     "output_type": "stream",
     "text": [
      "[1, 1, -1, -2]\n"
     ]
    }
   ],
   "source": [
    "def percepton(amostra, target):\n",
    "    erro_geral = 0\n",
    "    y = 0.001\n",
    "    u=0\n",
    "    while\n",
    "    for i in range(len(amostra)):\n",
    "        u += sum(amostra[i]) * target[i]\n",
    "        if u > 0:\n",
    "            y = 1\n",
    "        else:\n",
    "            y = 0\n",
    "        erro = target[i] - y\n",
    "        erro_geral = erro_geral + (erro*erro)\n",
    "        media = erro_geral / 2\n",
    "        target[i] = target[i] + (y*erro*sum(amostra[i]))\n",
    "    print(target)\n",
    "\n",
    "amostra = [[0,0],[0,1],[1,0],[1,1]]\n",
    "target  = [1,1,0,0]\n",
    "percepton(amostra, target)"
   ]
  },
  {
   "cell_type": "code",
   "execution_count": null,
   "metadata": {},
   "outputs": [],
   "source": []
  },
  {
   "cell_type": "code",
   "execution_count": null,
   "metadata": {},
   "outputs": [],
   "source": []
  }
 ],
 "metadata": {
  "kernelspec": {
   "display_name": "Python 3",
   "language": "python",
   "name": "python3"
  },
  "language_info": {
   "codemirror_mode": {
    "name": "ipython",
    "version": 3
   },
   "file_extension": ".py",
   "mimetype": "text/x-python",
   "name": "python",
   "nbconvert_exporter": "python",
   "pygments_lexer": "ipython3",
   "version": "3.6.7"
  }
 },
 "nbformat": 4,
 "nbformat_minor": 2
}
