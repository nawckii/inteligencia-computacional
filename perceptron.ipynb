{
 "cells": [
  {
   "cell_type": "code",
   "execution_count": 3,
   "metadata": {},
   "outputs": [
    {
     "name": "stdout",
     "output_type": "stream",
     "text": [
      "A amostra pertence a classe Diretor\n",
      "A amostra pertence a classe Diretor\n",
      "A amostra pertence a classe Ator\n",
      "A amostra pertence a classe Ator\n"
     ]
    }
   ],
   "source": [
    "import random, copy\n",
    "\n",
    "class Perceptron:\n",
    "\n",
    "    def __init__(self, amostras, saidas, taxa_aprendizado=0.1, epocas=1000, limiar=-1):\n",
    "\n",
    "        self.amostras = amostras\n",
    "        self.saidas = saidas \n",
    "        self.taxa_aprendizado = taxa_aprendizado \n",
    "        self.epocas = epocas \n",
    "        self.limiar = limiar \n",
    "        self.num_amostras = len(amostras) \n",
    "        self.num_amostra = len(amostras[0]) \n",
    "        self.pesos = [] \n",
    "\n",
    "\n",
    "    # função para treinar a rede\n",
    "    def treinar(self):\n",
    "        # adiciona -1 para cada uma das amostras\n",
    "        for amostra in self.amostras:\n",
    "            amostra.insert(0, -1)\n",
    "\n",
    "        # inicia o vetor de pesos com valores aleatórios\n",
    "        for i in range(self.num_amostra):\n",
    "            self.pesos.append(random.random())\n",
    "\n",
    "        # insere o limiar no vetor de pesos\n",
    "        self.pesos.insert(0, self.limiar)\n",
    "        num_epocas = 0\n",
    "\n",
    "        while True:\n",
    "            erro = False \n",
    "            for i in range(self.num_amostras):\n",
    "                u = 0\n",
    "                for j in range(self.num_amostra + 1):\n",
    "                    u += self.pesos[j] * self.amostras[i][j]\n",
    "\n",
    "                # obtém a saída da rede utilizando a função de ativação\n",
    "                y = self.sinal(u)\n",
    "                if y != self.saidas[i]:\n",
    "                    erro_aux = self.saidas[i] - y\n",
    "                    for j in range(self.num_amostra + 1):\n",
    "                        self.pesos[j] = self.pesos[j] + self.taxa_aprendizado * erro_aux * self.amostras[i][j]\n",
    "\n",
    "                    erro = True\n",
    "            num_epocas += 1\n",
    "            if num_epocas > self.epocas or not erro:\n",
    "                break\n",
    "\n",
    "\n",
    "    def testar(self, amostra, classe1, classe2):\n",
    "        amostra.insert(0, -1)\n",
    "        u = 0\n",
    "        for i in range(self.num_amostra + 1):\n",
    "            u += self.pesos[i] * amostra[i]\n",
    "        y = self.sinal(u)\n",
    "        if y == -1:\n",
    "            print('A amostra pertence a classe %s' % classe1)\n",
    "        else:\n",
    "            print('A amostra pertence a classe %s' % classe2)\n",
    "\n",
    "    def sinal(self, u):\n",
    "        return 1 if u >= 0 else -1\n",
    "\n",
    "\n",
    "    \n",
    "def main():\n",
    "    amostras = [[0,0,], [0,1], [1,0], [1,1,]]\n",
    "    saidas = [0, 0, -1, -1]\n",
    "\n",
    "    testes = copy.deepcopy(amostras)\n",
    "    rede = Perceptron(amostras=amostras, saidas=saidas, taxa_aprendizado=0.1, epocas=1000)\n",
    "\n",
    "    rede.treinar()\n",
    "\n",
    "    # testando a rede\n",
    "    for teste in testes:\n",
    "        rede.testar(teste, 'Ator', 'Diretor')\n",
    "main()"
   ]
  },
  {
   "cell_type": "code",
   "execution_count": null,
   "metadata": {},
   "outputs": [],
   "source": []
  },
  {
   "cell_type": "code",
   "execution_count": null,
   "metadata": {},
   "outputs": [],
   "source": []
  },
  {
   "cell_type": "code",
   "execution_count": null,
   "metadata": {},
   "outputs": [],
   "source": []
  }
 ],
 "metadata": {
  "kernelspec": {
   "display_name": "Python 3",
   "language": "python",
   "name": "python3"
  },
  "language_info": {
   "codemirror_mode": {
    "name": "ipython",
    "version": 3
   },
   "file_extension": ".py",
   "mimetype": "text/x-python",
   "name": "python",
   "nbconvert_exporter": "python",
   "pygments_lexer": "ipython3",
   "version": "3.6.7"
  }
 },
 "nbformat": 4,
 "nbformat_minor": 2
}
